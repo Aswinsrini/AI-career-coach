{
  "nbformat": 4,
  "nbformat_minor": 0,
  "metadata": {
    "colab": {
      "provenance": []
    },
    "kernelspec": {
      "name": "python3",
      "display_name": "Python 3"
    },
    "language_info": {
      "name": "python"
    }
  },
  "cells": [
    {
      "cell_type": "code",
      "execution_count": 23,
      "metadata": {
        "colab": {
          "base_uri": "https://localhost:8080/"
        },
        "id": "VtHTYwhXef_D",
        "outputId": "07d63107-9e67-476f-8a72-5475da6b0871"
      },
      "outputs": [
        {
          "output_type": "stream",
          "name": "stdout",
          "text": [
            "Requirement already satisfied: gradientai in /usr/local/lib/python3.10/dist-packages (1.7.0)\n",
            "Requirement already satisfied: aenum>=3.1.11 in /usr/local/lib/python3.10/dist-packages (from gradientai) (3.1.15)\n",
            "Requirement already satisfied: pydantic<2.0.0,>=1.10.5 in /usr/local/lib/python3.10/dist-packages (from gradientai) (1.10.14)\n",
            "Requirement already satisfied: python-dateutil>=2.8.2 in /usr/local/lib/python3.10/dist-packages (from gradientai) (2.8.2)\n",
            "Requirement already satisfied: urllib3>=1.25.3 in /usr/local/lib/python3.10/dist-packages (from gradientai) (2.0.7)\n",
            "Requirement already satisfied: typing-extensions>=4.2.0 in /usr/local/lib/python3.10/dist-packages (from pydantic<2.0.0,>=1.10.5->gradientai) (4.5.0)\n",
            "Requirement already satisfied: six>=1.5 in /usr/local/lib/python3.10/dist-packages (from python-dateutil>=2.8.2->gradientai) (1.16.0)\n"
          ]
        }
      ],
      "source": [
        "!pip install gradientai --upgrade"
      ]
    },
    {
      "cell_type": "code",
      "source": [
        "import os\n",
        "import csv\n",
        "from gradientai import Gradient\n",
        "\n",
        "os.environ['GRADIENT_ACCESS_TOKEN'] =\"\"\n",
        "os.environ['GRADIENT_WORKSPACE_ID']=\"\"\n",
        "\n",
        "carrer_dataset_path = \"/content/truncated_career_recommender_dataset.csv\"\n",
        "\n",
        "gradient = Gradient()\n",
        "print(\"Loading and formatting data\")\n",
        "\n",
        "formatted_data= []\n",
        "with open(carrer_dataset_path,encoding=\"utf-8-sig\") as f:\n",
        "  dataset_data = csv.DictReader(f,delimiter=\",\")\n",
        "  for row in dataset_data:\n",
        "    user_data = f\"Interests: {row['Interests']}, Skills:{row['Skills']} ,Degree:{row['Undergraduate Course']}, Working:{row['Employment Status']}\"\n",
        "    career_res = row['Career Path']\n",
        "\n",
        "\n",
        "    formatted_entry = {\n",
        "        \"inputs\":f\"### User Data:\\n{user_data}\\n\\n### Suggested Career Path:\",\n",
        "        \"response\":career_res\n",
        "    }\n",
        "    formatted_data.append(formatted_entry)\n",
        "\n",
        "#base model from Gradient\n",
        "base  = gradient.get_base_model(base_model_slug=\"nous-hermes2\")\n",
        "\n",
        "# Create a model adapter for fine-tuning\n",
        "new_model_adapter = base.create_model_adapter(name=\"ai_career_chatbot\")\n",
        "# Fine-tune the model adapter in chunks to prevent memory issues\n",
        "print(\"Fine-tuning model adapter...\")\n",
        "chunk_lines = 20\n",
        "total_chunks = [formatted_data[x:x+chunk_lines] for x in range(0, len (formatted_data), chunk_lines) ]\n",
        "for i, chunk in enumerate(total_chunks):\n",
        "  try:\n",
        "    print (f\"Fine-tuning chunk {i+1} of {len(total_chunks)}\")\n",
        "    new_model_adapter.fine_tune (samples=chunk)\n",
        "  except Exception as error:\n",
        "    print (f\"Error in fine-tuning chunk {i+1}: {error}\")"
      ],
      "metadata": {
        "colab": {
          "base_uri": "https://localhost:8080/"
        },
        "id": "6qZSPs0yh3WP",
        "outputId": "1996f78d-c771-4d85-8a5f-ea92cc3c5bfe"
      },
      "execution_count": 8,
      "outputs": [
        {
          "output_type": "stream",
          "name": "stdout",
          "text": [
            "Loading and formatting data\n",
            "Fine-tuning model adapter...\n",
            "Fine-tuning chunk 1 of 5\n",
            "Fine-tuning chunk 2 of 5\n",
            "Fine-tuning chunk 3 of 5\n",
            "Fine-tuning chunk 4 of 5\n",
            "Fine-tuning chunk 5 of 5\n"
          ]
        }
      ]
    },
    {
      "cell_type": "code",
      "source": [
        "print(\"YOUR AI CAREER COACH GUIDANCE...\\n\")\n",
        "interests=input(\"Enter Your  Interests : \") # eg:- Coding, Cloud computing, Sales, Research, Financial, Teaching, Design, etc.,\n",
        "skills=input(\"Enter Your skills : \") # eg:- Critical Thinking, Python, SQL, c++, data visualization, web development, etc.,\n",
        "degree=input(\"Enter Your degree : \")#eg:- B.sc in computer science, BA Psychology, B.com Accountancy, B.E Electrical and Electronics Engineering,Law Hons Statistics, etc.,\n",
        "workingStatus=input(\"Enter Your workingStatus : \")#eg:- Yes, No\n",
        "\n",
        "# user_query= f\"Interests: {interests}, Skills: {skills}, Degree: {degree}, Working: {workingStatus}\"\n",
        "\n",
        "# response = new_model_adapter.complete(query =formatted_query,max_generated_token_count=80)\n",
        "# print(f\"{user_query}\\n\\n{response.generated_output}\")\n",
        "\n",
        "user_query = f\"Interests: {interests}, Skills: {skills}, Degree: {degree}, Working: {workingStatus}\"\n",
        "formatted_query = f\"### User Data:\\n{user_query}\\n\\n### Suggested Career Path:\"\n",
        "print(\"\\nWaiting for AI the response....\\n\")\n",
        "response = new_model_adapter.complete(query=formatted_query, max_generated_token_count=200)\n",
        "print(f\"> {user_query}\\n> {response.generated_output}\")"
      ],
      "metadata": {
        "colab": {
          "base_uri": "https://localhost:8080/"
        },
        "id": "6eh-U1U-kdAy",
        "outputId": "ecebf3bc-1214-4d6a-b007-8ebb7c61498d"
      },
      "execution_count": 22,
      "outputs": [
        {
          "output_type": "stream",
          "name": "stdout",
          "text": [
            "YOUR AI CAREER COACH GUIDANCE...\n",
            "\n",
            "Enter Your  Interests : Coding\n",
            "Enter Your skills : Python\n",
            "Enter Your degree : B.Sc in Computer Science\n",
            "Enter Your workingStatus : No\n",
            "\n",
            "Waiting for AI the response....\n",
            "\n",
            "> Interests: Coding, Skills: Python, Degree: B.Sc in Computer Science, Working: No\n",
            ">  Based on your interests and skills, a career path that could be suitable for you is a Software Developer or Software Engineer. With a B.Sc in Computer Science and proficiency in Python, you can work for a software company or start-up, where you can design, develop, and maintain software applications. You can also work as a freelancer or a consultant, providing software development services to clients. Additionally, you can also pursue higher studies in Computer Science or related fields to enhance your knowledge and career prospects.\n"
          ]
        }
      ]
    }
  ]
}